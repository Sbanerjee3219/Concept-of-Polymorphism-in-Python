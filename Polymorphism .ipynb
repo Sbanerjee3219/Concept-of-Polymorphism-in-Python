{
 "cells": [
  {
   "cell_type": "markdown",
   "metadata": {},
   "source": [
    "# Polymorphism"
   ]
  },
  {
   "cell_type": "markdown",
   "metadata": {},
   "source": [
    "#### It is a concept in Object oriented programming. It defines if a object changes its way of operation with respect to situation and condition. Poly means many and morph means form. Hence in precise Polymorphism means something which has many forms. "
   ]
  },
  {
   "cell_type": "markdown",
   "metadata": {},
   "source": [
    "There are 4 four concepts in polymorphism i.e 1. Duck Typing, 2. Operator Overloading 3. Method Overloading and 4. Method Overwriting. However Method over writing is not directly applicable in python. We can acheive this by using some other implementations\n"
   ]
  },
  {
   "cell_type": "markdown",
   "metadata": {},
   "source": [
    "Python follows dynamic typing i.e we do not need to pass variable type when declaring certain value to any variable . Let's suppose a=5. Python interpreter automatically understands that it is a int type and again when we declarae a=\"Soumyadeep\", in the same way python interpreter understands the variable datatype is string  "
   ]
  },
  {
   "cell_type": "markdown",
   "metadata": {},
   "source": [
    "#### Duck typing "
   ]
  },
  {
   "cell_type": "markdown",
   "metadata": {},
   "source": [
    "A famouse quote to explain this concept is -\"If it looks like a duck, swims like a duck, and quacks like a duck, then it probably is a duck\"\n",
    "\n",
    "That means if a object behaves same and operates same irrespective of any classes then its following duck typing"
   ]
  },
  {
   "cell_type": "code",
   "execution_count": 19,
   "metadata": {},
   "outputs": [
    {
     "name": "stdout",
     "output_type": "stream",
     "text": [
      "I am running from class 1\n",
      "I am running from class 2\n"
     ]
    }
   ],
   "source": [
    "class class1:\n",
    "    def runs(self):\n",
    "        print(\"I am running from class 1\")\n",
    "class class2:\n",
    "    def runs(self):\n",
    "        print(\"I am running from class 2\")\n",
    "        \n",
    "class check:\n",
    "    def code(self,ide):\n",
    "        ide.runs()\n",
    "        \n",
    "#here i want to excute code method which is under check class. Now duck typing means if a object behaves in a \n",
    "#similar manner irrespective of different class and object. let's check whether code method behaves same for \n",
    "#different class\n",
    "\n",
    "lap=check()\n",
    "ide1=class1()\n",
    "ide2=class2()\n",
    "\n",
    "lap.code(ide1)\n",
    "lap.code(ide2)\n",
    "\n",
    "#Here we can see that irrespective of the class code method is working in similar way. Hence we can say it \n",
    "#is following ducktyping method . Provided all the class must have .runs method "
   ]
  },
  {
   "cell_type": "markdown",
   "metadata": {},
   "source": [
    "######  Operator Overloading "
   ]
  },
  {
   "cell_type": "code",
   "execution_count": 2,
   "metadata": {},
   "outputs": [
    {
     "ename": "TypeError",
     "evalue": "unsupported operand type(s) for +: 'sums' and 'sums'",
     "output_type": "error",
     "traceback": [
      "\u001b[1;31m---------------------------------------------------------------------------\u001b[0m",
      "\u001b[1;31mTypeError\u001b[0m                                 Traceback (most recent call last)",
      "\u001b[1;32m<ipython-input-2-b6d506330824>\u001b[0m in \u001b[0;36m<module>\u001b[1;34m\u001b[0m\n\u001b[0;32m      6\u001b[0m \u001b[0mnum2\u001b[0m\u001b[1;33m=\u001b[0m\u001b[0msums\u001b[0m\u001b[1;33m(\u001b[0m\u001b[1;36m7\u001b[0m\u001b[1;33m)\u001b[0m\u001b[1;33m\u001b[0m\u001b[1;33m\u001b[0m\u001b[0m\n\u001b[0;32m      7\u001b[0m \u001b[1;33m\u001b[0m\u001b[0m\n\u001b[1;32m----> 8\u001b[1;33m \u001b[0mnum1\u001b[0m\u001b[1;33m+\u001b[0m\u001b[0mnum2\u001b[0m\u001b[1;33m\u001b[0m\u001b[1;33m\u001b[0m\u001b[0m\n\u001b[0m",
      "\u001b[1;31mTypeError\u001b[0m: unsupported operand type(s) for +: 'sums' and 'sums'"
     ]
    }
   ],
   "source": [
    "class sums:\n",
    "    \n",
    "    def __init__(self,a):\n",
    "        self.a=a\n",
    "num1=sums(6)\n",
    "num2=sums(7)\n",
    "\n",
    "num1+num2"
   ]
  },
  {
   "cell_type": "markdown",
   "metadata": {},
   "source": [
    "In the above example after initialising two objects when we are summing up it is showing error as above. Why so? because python interpreter is not able to understand what to do with the object. i.e the \"+\" sign in between these two objects are not pre defined in the class. But how a 9+2 gives output as 11. It is because when we call 9+2, in the backend a method is called automatically like below"
   ]
  },
  {
   "cell_type": "code",
   "execution_count": 3,
   "metadata": {},
   "outputs": [
    {
     "data": {
      "text/plain": [
       "11"
      ]
     },
     "execution_count": 3,
     "metadata": {},
     "output_type": "execute_result"
    }
   ],
   "source": [
    "int.__add__(9,2) #this method is called whenever + sign is used between two interger "
   ]
  },
  {
   "cell_type": "code",
   "execution_count": 4,
   "metadata": {},
   "outputs": [
    {
     "data": {
      "text/plain": [
       "'Soumyadeepbanerjee'"
      ]
     },
     "execution_count": 4,
     "metadata": {},
     "output_type": "execute_result"
    }
   ],
   "source": [
    "str.__add__(\"Soumyadeep\",\"banerjee\") #as python understand dynamic typing, when string object is passed it calls\n",
    "#this method instead of int.__add__()"
   ]
  },
  {
   "cell_type": "markdown",
   "metadata": {},
   "source": [
    "As int is built in class and it has separate add method. we need to create our own add method to have similar result "
   ]
  },
  {
   "cell_type": "code",
   "execution_count": 5,
   "metadata": {},
   "outputs": [
    {
     "data": {
      "text/plain": [
       "13"
      ]
     },
     "execution_count": 5,
     "metadata": {},
     "output_type": "execute_result"
    }
   ],
   "source": [
    "class sums:\n",
    "    \n",
    "    def __init__(self,a):\n",
    "        self.a=a\n",
    "        \n",
    "    def __add__(self,other):#here other defines the next object. we can give any name to the variable \n",
    "        \n",
    "        return self.a+other.a\n",
    "    \n",
    "    \n",
    "num1=sums(6)\n",
    "num2=sums(7)\n",
    "\n",
    "num1+num2"
   ]
  },
  {
   "cell_type": "markdown",
   "metadata": {},
   "source": [
    "In the backend this __add__ method is acting like sums.__ add __ (num1,num2) and giving result as above "
   ]
  },
  {
   "cell_type": "markdown",
   "metadata": {},
   "source": [
    "Now let's chnage the operator type and check the result "
   ]
  },
  {
   "cell_type": "code",
   "execution_count": 6,
   "metadata": {},
   "outputs": [
    {
     "ename": "TypeError",
     "evalue": "unsupported operand type(s) for -: 'sums' and 'sums'",
     "output_type": "error",
     "traceback": [
      "\u001b[1;31m---------------------------------------------------------------------------\u001b[0m",
      "\u001b[1;31mTypeError\u001b[0m                                 Traceback (most recent call last)",
      "\u001b[1;32m<ipython-input-6-539fd9dbc490>\u001b[0m in \u001b[0;36m<module>\u001b[1;34m\u001b[0m\n\u001b[1;32m----> 1\u001b[1;33m \u001b[0mnum1\u001b[0m\u001b[1;33m-\u001b[0m\u001b[0mnum2\u001b[0m\u001b[1;33m\u001b[0m\u001b[1;33m\u001b[0m\u001b[0m\n\u001b[0m",
      "\u001b[1;31mTypeError\u001b[0m: unsupported operand type(s) for -: 'sums' and 'sums'"
     ]
    }
   ],
   "source": [
    "num1-num2"
   ]
  },
  {
   "cell_type": "markdown",
   "metadata": {},
   "source": [
    "Same error as we defined method for \"+\" operator only. Python interpreter can not understand \"-\" operator. However we can assign any operation inside the built in method like this way "
   ]
  },
  {
   "cell_type": "code",
   "execution_count": 7,
   "metadata": {},
   "outputs": [
    {
     "data": {
      "text/plain": [
       "-1"
      ]
     },
     "execution_count": 7,
     "metadata": {},
     "output_type": "execute_result"
    }
   ],
   "source": [
    "class sums:\n",
    "    \n",
    "    def __init__(self,a):\n",
    "        self.a=a\n",
    "        \n",
    "    def __add__(self,other):#here other defines the next object \n",
    "        \n",
    "        return self.a-other.a\n",
    "    \n",
    "    \n",
    "num1=sums(6)\n",
    "num2=sums(7)\n",
    "\n",
    "num1+num2"
   ]
  },
  {
   "cell_type": "markdown",
   "metadata": {},
   "source": [
    "Even after providing \"+\" operator it is giving result of subtraction. this is called operator overloading as we are  loading \"-\" operator over built in add i.e \"+\" operator "
   ]
  },
  {
   "cell_type": "markdown",
   "metadata": {},
   "source": [
    "This __add__ method is called magic method. Other magic methods are __mul__(operator-\"*\"),__sub__(opearator-\"+\")"
   ]
  },
  {
   "cell_type": "markdown",
   "metadata": {},
   "source": [
    "###### Method Overloading "
   ]
  },
  {
   "cell_type": "markdown",
   "metadata": {},
   "source": [
    "Method overloading concept is not there in python.it means if a class has two method of same name but different parameters or  argument then it is called method overloading. In python it does not support method overloading as it is absurd to create two method of same name under one class.Because in python code gets executed line by line.Hence lets say a method namely avg is executed first which returns average of two numbers gets replaces or overwrites by the return output of the same method which is at the below most position.This is because all lines of all the methods of same name are executed whenever the method is called.But by using conditional statements or other procedures we can achieve the concept here as well. Let's check the problem first"
   ]
  },
  {
   "cell_type": "code",
   "execution_count": 8,
   "metadata": {},
   "outputs": [],
   "source": [
    "class A:\n",
    "    \n",
    "    def __init__(self,n1,n2,n3):\n",
    "        self.n1=n1\n",
    "        self.n2=n2\n",
    "        self.n3=n3\n",
    "    \n",
    "    def avg(self):\n",
    "        print(\"executed from top most avg method\")\n",
    "        return (self.n1+self.n2+self.n3)/3\n",
    "    \n",
    "    def avg(self):\n",
    "        print(\"executed from below most avg method\")\n",
    "        return (self.n1+self.n2)/2\n",
    "   \n",
    "    \n",
    "    \n",
    "    "
   ]
  },
  {
   "cell_type": "code",
   "execution_count": 9,
   "metadata": {},
   "outputs": [],
   "source": [
    "x=A(10,20,30)\n"
   ]
  },
  {
   "cell_type": "code",
   "execution_count": 10,
   "metadata": {
    "scrolled": true
   },
   "outputs": [
    {
     "name": "stdout",
     "output_type": "stream",
     "text": [
      "executed from below most avg method\n"
     ]
    },
    {
     "data": {
      "text/plain": [
       "15.0"
      ]
     },
     "execution_count": 10,
     "metadata": {},
     "output_type": "execute_result"
    }
   ],
   "source": [
    "x.avg()"
   ]
  },
  {
   "cell_type": "markdown",
   "metadata": {},
   "source": [
    "In the above example what is happening? at first after creating the object when we are calling avg method cursor looks from top. When cursor finds the method, it gets executed and return value is stored. Then gain cursor looks rest line of codes and here it finds another method of same name. then again it gets executed and accordingly latest return value is stored and accordingly  we always get output for the below most positional method under the same class. Next example is created by changing the postion of the method and accordingly output gets changed"
   ]
  },
  {
   "cell_type": "code",
   "execution_count": 11,
   "metadata": {},
   "outputs": [],
   "source": [
    "class A:\n",
    "    \n",
    "    def __init__(self,n1,n2,n3):\n",
    "        self.n1=n1\n",
    "        self.n2=n2\n",
    "        self.n3=n3\n",
    "    def avg(self):\n",
    "        print(\"executed from top most avg method\")\n",
    "        return (self.n1+self.n2)/2\n",
    "\n",
    "    def avg(self):\n",
    "        print(\"executed from below most avg method\")\n",
    "        return (self.n1+self.n2+self.n3)/3\n"
   ]
  },
  {
   "cell_type": "code",
   "execution_count": 12,
   "metadata": {},
   "outputs": [
    {
     "name": "stdout",
     "output_type": "stream",
     "text": [
      "executed from below most avg method\n"
     ]
    },
    {
     "data": {
      "text/plain": [
       "20.0"
      ]
     },
     "execution_count": 12,
     "metadata": {},
     "output_type": "execute_result"
    }
   ],
   "source": [
    "x=A(10,20,30)\n",
    "x.avg()"
   ]
  },
  {
   "cell_type": "markdown",
   "metadata": {},
   "source": [
    "Value is changed as it gets executed from below most method "
   ]
  },
  {
   "cell_type": "markdown",
   "metadata": {},
   "source": [
    "###### Method Overriding- it is based on inheritance concept. If a child class has no method which is there in parent class then whenever it gets called the child class executes it from parent class. But if the method with same name exists in the child class then it does not execute from parent class but executes from own method i.e from child class itself. let's take example and understand "
   ]
  },
  {
   "cell_type": "code",
   "execution_count": 13,
   "metadata": {},
   "outputs": [],
   "source": [
    "class Parent:\n",
    "    def method1(self):\n",
    "        print(\"I am running from Parent class\")\n",
    "        \n",
    "class Child(Parent): # Child inherits parent\n",
    "    def method2(self):\n",
    "        print(\"I am running from Child class\")\n",
    "        "
   ]
  },
  {
   "cell_type": "code",
   "execution_count": 14,
   "metadata": {},
   "outputs": [],
   "source": [
    "son=Child()"
   ]
  },
  {
   "cell_type": "code",
   "execution_count": 15,
   "metadata": {},
   "outputs": [
    {
     "name": "stdout",
     "output_type": "stream",
     "text": [
      "I am running from Parent class\n"
     ]
    }
   ],
   "source": [
    "son.method1() #this method is not available in child class but available in parent class.\n",
    "# as child inherits parent hence all the properties, methods are available in child class itself"
   ]
  },
  {
   "cell_type": "code",
   "execution_count": 16,
   "metadata": {},
   "outputs": [],
   "source": [
    "class Parent:\n",
    "    def method1(self):\n",
    "        print(\"I am running from Parent class\")\n",
    "        \n",
    "class Child(Parent): # Child inherits parent\n",
    "    \n",
    "    def method1(self):\n",
    "        print(\"I am running from Child class\")\n",
    "    def method2(self):\n",
    "        print(\"I am running from Child class\")\n"
   ]
  },
  {
   "cell_type": "code",
   "execution_count": 17,
   "metadata": {},
   "outputs": [
    {
     "name": "stdout",
     "output_type": "stream",
     "text": [
      "I am running from Child class\n"
     ]
    }
   ],
   "source": [
    "son=Child()\n",
    "son.method1()"
   ]
  },
  {
   "cell_type": "markdown",
   "metadata": {},
   "source": [
    "Here method1 is already available in child class and hence it does not look for it super class i.e parent class. This is called method overriding. "
   ]
  }
 ],
 "metadata": {
  "kernelspec": {
   "display_name": "Python 3",
   "language": "python",
   "name": "python3"
  },
  "language_info": {
   "codemirror_mode": {
    "name": "ipython",
    "version": 3
   },
   "file_extension": ".py",
   "mimetype": "text/x-python",
   "name": "python",
   "nbconvert_exporter": "python",
   "pygments_lexer": "ipython3",
   "version": "3.8.3"
  }
 },
 "nbformat": 4,
 "nbformat_minor": 4
}
